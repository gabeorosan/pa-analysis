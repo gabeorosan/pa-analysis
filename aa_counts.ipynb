{
 "cells": [
  {
   "cell_type": "code",
   "execution_count": 1,
   "id": "cf27aa57",
   "metadata": {},
   "outputs": [],
   "source": [
    "import json\n",
    "\n",
    "with open('pa-data-genome-exc.json', 'r') as f: #was pa-data-genome-full\n",
    "    data = json.load(f)"
   ]
  },
  {
   "cell_type": "code",
   "execution_count": 2,
   "id": "4ca956d6-56f8-4208-b063-cff93ebdd150",
   "metadata": {
    "scrolled": true
   },
   "outputs": [],
   "source": [
    "with open('aas.json', 'r') as f:\n",
    "    aa_dict = json.load(f)\n",
    "\n",
    "nw_aas = {}\n",
    "\n",
    "for v in aa_dict:\n",
    "    nw_aas[v[-4:]] = aa_dict[v]\n",
    "\n",
    "data['aas'] = {}\n",
    "\n",
    "for k, v in nw_aas.items():\n",
    "    if k not in data['data'].keys(): data['data'][k] = {}\n",
    "    data['aas'][k] = v\n",
    "    data['data'][k]['most_common_aa'] = max(v, key=v.get)"
   ]
  },
  {
   "cell_type": "code",
   "execution_count": 6,
   "id": "b21d97c8",
   "metadata": {},
   "outputs": [],
   "source": [
    "all_aas = {}\n",
    "for k, v in aa_dict.items():\n",
    "    for a in v:\n",
    "        if a not in all_aas.keys(): all_aas[a] = 0\n",
    "        all_aas[a] = all_aas[a] + v[a]"
   ]
  },
  {
   "cell_type": "code",
   "execution_count": 7,
   "id": "58a69177",
   "metadata": {},
   "outputs": [],
   "source": [
    "with open('all_aas.json', 'w') as f:\n",
    "    json_str = json.dumps(all_aas, indent=4)\n",
    "    f.write(json_str)"
   ]
  },
  {
   "cell_type": "code",
   "execution_count": 8,
   "id": "a54f1b93",
   "metadata": {},
   "outputs": [],
   "source": [
    "with open('pa-data-common.json', 'w') as f:\n",
    "    json_str = json.dumps(data, indent=4)\n",
    "    f.write(json_str)"
   ]
  }
 ],
 "metadata": {
  "kernelspec": {
   "display_name": "Python 3 (ipykernel)",
   "language": "python",
   "name": "python3"
  },
  "language_info": {
   "codemirror_mode": {
    "name": "ipython",
    "version": 3
   },
   "file_extension": ".py",
   "mimetype": "text/x-python",
   "name": "python",
   "nbconvert_exporter": "python",
   "pygments_lexer": "ipython3",
   "version": "3.10.6"
  },
  "vscode": {
   "interpreter": {
    "hash": "7e1998ff7f8aa20ada591c520b972326324e5ea05489af9e422744c7c09f6dad"
   }
  }
 },
 "nbformat": 4,
 "nbformat_minor": 5
}
