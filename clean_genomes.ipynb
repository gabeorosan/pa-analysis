{
 "cells": [
  {
   "cell_type": "code",
   "execution_count": 1,
   "id": "9cb6fe2b",
   "metadata": {},
   "outputs": [],
   "source": [
    "import json\n",
    "\n",
    "with open('pa-data-gauge.json', 'r') as f:\n",
    "    data = json.load(f)"
   ]
  },
  {
   "cell_type": "code",
   "execution_count": 3,
   "id": "e28b9ea2-a62f-4253-823f-18793ae66e6a",
   "metadata": {},
   "outputs": [],
   "source": [
    "genome_dict = {}\n",
    "genome_dict['dsRNA viruses'] = 'dsRNA'\n",
    "genome_dict['ssDNA viruses'] = 'ssDNA'\n",
    "genome_dict['Circular DNA'] = 'circular DNA'\n",
    "genome_dict['ssRNA viruses'] = 'ssRNA'\n",
    "genome_dict['sRNA'] = 'ssRNA'\n",
    "genome_dict['ssRNA positive-strand viruses; no DNA stage'] = 'ssRNA positive-strand viruses'\n",
    "genome_dict['ssRNA positive-strand viruse; no DNA stage'] = 'ssRNA positive-strand viruses'\n",
    "genome_dict['dsDNA viruses; no RNA stage'] = 'dsDNA'\n",
    "\n",
    "for f in data['filters']['genome']:\n",
    "    if f in genome_dict.keys():\n",
    "        data['filters']['genome'].remove(f)\n",
    "\n",
    "for v in data['data'].keys():\n",
    "    if 'genome' not in data['data'][v].keys(): continue\n",
    "    if isinstance(data['data'][v]['genome'], list): \n",
    "        if data['data'][v]['genome'] == ['dsDNA']:\n",
    "            data['data'][v]['genome'] = 'dsDNA'\n",
    "    elif data['data'][v]['genome'] in genome_dict:\n",
    "        data['data'][v]['genome'] = genome_dict[data['data'][v]['genome']]"
   ]
  },
  {
   "cell_type": "code",
   "execution_count": 18,
   "id": "5daf6160",
   "metadata": {},
   "outputs": [
    {
     "data": {
      "text/plain": [
       "'dsDNA'"
      ]
     },
     "execution_count": 18,
     "metadata": {},
     "output_type": "execute_result"
    }
   ],
   "source": [
    "data['data']['1gw7']['genome']\n",
    "#should be 'dsDNA'"
   ]
  },
  {
   "cell_type": "code",
   "execution_count": 19,
   "id": "eaa9095d",
   "metadata": {},
   "outputs": [],
   "source": [
    "with open('pa-data-genome-full.json', 'w') as f:\n",
    "    json_str = json.dumps(data, indent=4)\n",
    "    f.write(json_str)"
   ]
  },
  {
   "cell_type": "code",
   "execution_count": 26,
   "id": "2d13cafc-8a27-4417-b127-4dadf06f2de4",
   "metadata": {},
   "outputs": [],
   "source": [
    "genome_dict['ssRNA-RT'] = 'ssRNA'\n",
    "genome_dict['ssRNA positive-strand viruses'] = 'ssRNA'\n",
    "genome_dict['ssRNA viruses; no DNA stage'] = 'ssRNA'\n",
    "genome_dict['ssRNA-RT'] = 'ssRNA'\n",
    "genome_dict['circular DNA'] = 'dsDNA'"
   ]
  },
  {
   "cell_type": "code",
   "execution_count": 27,
   "id": "8346803c-fbf4-41a6-bf49-c1b9b597502d",
   "metadata": {},
   "outputs": [],
   "source": [
    "for f in data['filters']['genome']:\n",
    "    if f in genome_dict.keys():\n",
    "        data['filters']['genome'].remove(f)"
   ]
  },
  {
   "cell_type": "code",
   "execution_count": 29,
   "id": "d2b0fe60-84d8-4898-85c0-789715ec0a0d",
   "metadata": {},
   "outputs": [],
   "source": [
    "for v in data['data'].keys():\n",
    "    if 'genome' not in data['data'][v].keys(): continue\n",
    "    if isinstance(data['data'][v]['genome'], list): \n",
    "        if data['data'][v]['genome'] == ['dsDNA']:\n",
    "            data['data'][v]['genome'] = 'dsDNA'\n",
    "    elif data['data'][v]['genome'] in genome_dict:\n",
    "        data['data'][v]['genome'] = genome_dict[data['data'][v]['genome']]"
   ]
  },
  {
   "cell_type": "code",
   "execution_count": 30,
   "id": "089901da-eb1f-46a4-ba66-0efb8f2d856b",
   "metadata": {},
   "outputs": [],
   "source": [
    "with open('pa-data-genome-exc.json', 'w') as f:\n",
    "    json_str = json.dumps(data, indent=4)\n",
    "    f.write(json_str)"
   ]
  }
 ],
 "metadata": {
  "kernelspec": {
   "display_name": "Python 3 (ipykernel)",
   "language": "python",
   "name": "python3"
  },
  "language_info": {
   "codemirror_mode": {
    "name": "ipython",
    "version": 3
   },
   "file_extension": ".py",
   "mimetype": "text/x-python",
   "name": "python",
   "nbconvert_exporter": "python",
   "pygments_lexer": "ipython3",
   "version": "3.10.6"
  },
  "vscode": {
   "interpreter": {
    "hash": "fbac73f3796d6a93192ce8211353d25a663db9d1ae3491beb8c364bc387b99b0"
   }
  }
 },
 "nbformat": 4,
 "nbformat_minor": 5
}
