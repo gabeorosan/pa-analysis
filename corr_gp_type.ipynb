{
 "cells": [
  {
   "cell_type": "code",
   "execution_count": 9,
   "id": "df7d1486",
   "metadata": {},
   "outputs": [],
   "source": [
    "import json\n",
    "with open('dbcurr.json', 'r') as f:\n",
    "    data = json.load(f)"
   ]
  },
  {
   "cell_type": "code",
   "execution_count": 10,
   "id": "c981f8d0",
   "metadata": {},
   "outputs": [],
   "source": [
    "data['properties']['discrete'].append('gauge_point')"
   ]
  },
  {
   "cell_type": "code",
   "execution_count": 22,
   "id": "89c6f1c8",
   "metadata": {},
   "outputs": [
    {
     "data": {
      "text/plain": [
       "['4',\n",
       " '21',\n",
       " '1',\n",
       " '16',\n",
       " '19',\n",
       " '6',\n",
       " '2',\n",
       " '7',\n",
       " '14',\n",
       " '18',\n",
       " '12',\n",
       " '15',\n",
       " '9',\n",
       " '13',\n",
       " '11',\n",
       " '8',\n",
       " '17',\n",
       " '10',\n",
       " '20',\n",
       " '5',\n",
       " '3']"
      ]
     },
     "execution_count": 22,
     "metadata": {},
     "output_type": "execute_result"
    }
   ],
   "source": [
    "data['filters']['gauge_point']"
   ]
  },
  {
   "cell_type": "code",
   "execution_count": 27,
   "id": "28f76940",
   "metadata": {},
   "outputs": [],
   "source": [
    "data['filters']['gauge_point'] = [str(x) for x in sorted([int(g) for g in data['filters']['gauge_point']])]"
   ]
  },
  {
   "cell_type": "code",
   "execution_count": 21,
   "id": "338667c5",
   "metadata": {},
   "outputs": [
    {
     "data": {
      "text/plain": [
       "{'atoms': 1763,\n",
       " 'average_radius': 87,\n",
       " 'closest_aa': 'VAL',\n",
       " 'common_gauge_aa': 'A',\n",
       " 'deposited_polymer_monomer_count': 179,\n",
       " 'family': 'Virtovirus',\n",
       " 'fold': 'Nucleoplasmin-like/VP (viral coat and capsid proteins)',\n",
       " 'gauge_point': '2',\n",
       " 'genome': 'ssRNA',\n",
       " 'genus': 'Tobacco virtovirus 1',\n",
       " 'most_common_aa': 'A',\n",
       " 'other_aa': 'CYS',\n",
       " 'polymer_molecular_weight_maximum': 17.53,\n",
       " 'polymer_molecular_weight_minimum': 3.02,\n",
       " 'tnumber': '1',\n",
       " 'weight': 24.22}"
      ]
     },
     "execution_count": 21,
     "metadata": {},
     "output_type": "execute_result"
    }
   ],
   "source": [
    "data['data']['1a34']"
   ]
  },
  {
   "cell_type": "code",
   "execution_count": 11,
   "id": "09247c1f",
   "metadata": {},
   "outputs": [],
   "source": [
    "data['properties']['continuous'].remove('gauge_point')"
   ]
  },
  {
   "cell_type": "code",
   "execution_count": 15,
   "id": "853f3260",
   "metadata": {},
   "outputs": [],
   "source": [
    "for v in data['data']:\n",
    "    if 'gauge_point' in data['data'][v]: data['data'][v]['gauge_point'] = str(data['data'][v]['gauge_point'])"
   ]
  },
  {
   "cell_type": "code",
   "execution_count": 30,
   "id": "a3a4fb67",
   "metadata": {},
   "outputs": [],
   "source": [
    "with open('db_gpstring.json', 'w') as f:\n",
    "    d = json.dumps(data, indent=4)\n",
    "    f.write(d)"
   ]
  },
  {
   "cell_type": "code",
   "execution_count": null,
   "id": "0018ac9f",
   "metadata": {},
   "outputs": [],
   "source": []
  }
 ],
 "metadata": {
  "kernelspec": {
   "display_name": "Python 3.10.5 64-bit",
   "language": "python",
   "name": "python3"
  },
  "language_info": {
   "codemirror_mode": {
    "name": "ipython",
    "version": 3
   },
   "file_extension": ".py",
   "mimetype": "text/x-python",
   "name": "python",
   "nbconvert_exporter": "python",
   "pygments_lexer": "ipython3",
   "version": "3.10.5"
  },
  "vscode": {
   "interpreter": {
    "hash": "7e1998ff7f8aa20ada591c520b972326324e5ea05489af9e422744c7c09f6dad"
   }
  }
 },
 "nbformat": 4,
 "nbformat_minor": 5
}
