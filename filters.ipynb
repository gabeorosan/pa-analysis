{
 "cells": [
  {
   "cell_type": "code",
   "execution_count": 12,
   "id": "b1d535d7",
   "metadata": {},
   "outputs": [
    {
     "data": {
      "text/plain": [
       "'\\nfrom req_util import *\\nfrom urllib3.exceptions import InsecureRequestWarning\\nfrom urllib3 import disable_warnings\\nimport json\\ndisable_warnings(InsecureRequestWarning)\\n\\n#make a dictionary with family:members(and all data on ViperDB) for each family on ViperDB\\nfamilies_res = requests.get((base_url + all_families_url), verify=False)\\nfamilies = json.loads(families_res.text)\\nfamily_members = {}\\nfor i in range(len(families)):\\n    family = families[i][\"family\"]\\n    members_res = requests.get(family_url(family), verify=False)\\n    family_members[family] = json.loads(members_res.text)\\nfamily_dict = dictlist(family_members)\\n\\ntnums_res = requests.get((base_url + all_tnums_url), verify=False)\\ntnums = json.loads(tnums_res.text)\\ntnum_members = {}\\nfor i in range(len(tnums)):\\n    tnum = tnums[i][\"tnumber\"]\\n    members_res = requests.get(tnum_url(tnum), verify=False)\\n    tnum_members[tnum] = json.loads(members_res.text)\\n\\ngenuses_res = requests.get((base_url + all_genuses_url), verify=False)\\ngenuses = json.loads(genuses_res.text)\\n'"
      ]
     },
     "execution_count": 12,
     "metadata": {},
     "output_type": "execute_result"
    }
   ],
   "source": [
    "'''\n",
    "from req_util import *\n",
    "from urllib3.exceptions import InsecureRequestWarning\n",
    "from urllib3 import disable_warnings\n",
    "import json\n",
    "disable_warnings(InsecureRequestWarning)\n",
    "\n",
    "#make a dictionary with family:members(and all data on ViperDB) for each family on ViperDB\n",
    "families_res = requests.get((base_url + all_families_url), verify=False)\n",
    "families = json.loads(families_res.text)\n",
    "family_members = {}\n",
    "for i in range(len(families)):\n",
    "    family = families[i][\"family\"]\n",
    "    members_res = requests.get(family_url(family), verify=False)\n",
    "    family_members[family] = json.loads(members_res.text)\n",
    "family_dict = dictlist(family_members)\n",
    "\n",
    "tnums_res = requests.get((base_url + all_tnums_url), verify=False)\n",
    "tnums = json.loads(tnums_res.text)\n",
    "tnum_members = {}\n",
    "for i in range(len(tnums)):\n",
    "    tnum = tnums[i][\"tnumber\"]\n",
    "    members_res = requests.get(tnum_url(tnum), verify=False)\n",
    "    tnum_members[tnum] = json.loads(members_res.text)\n",
    "\n",
    "genuses_res = requests.get((base_url + all_genuses_url), verify=False)\n",
    "genuses = json.loads(genuses_res.text)\n",
    "'''"
   ]
  },
  {
   "cell_type": "code",
   "execution_count": 13,
   "id": "df7d1486",
   "metadata": {},
   "outputs": [],
   "source": [
    "import json\n",
    "with open('pa-data-properties.json', 'r') as f:\n",
    "    data = json.load(f)"
   ]
  },
  {
   "cell_type": "code",
   "execution_count": 14,
   "id": "f86670b5-d4c3-478f-9cd3-3467567bcd12",
   "metadata": {},
   "outputs": [],
   "source": [
    "for p in data['properties']['discrete']:\n",
    "    pset = [v[p] for k,v in data['data'].items() if p in data['data'][k].keys()]\n",
    "    pset = list(set(pset))\n",
    "    data['filters'][p] = pset"
   ]
  },
  {
   "cell_type": "code",
   "execution_count": 15,
   "id": "61bb3155-9cd3-4e93-acf8-9407372cfdbc",
   "metadata": {},
   "outputs": [
    {
     "data": {
      "text/plain": [
       "dict_keys(['family', 'fold', 'genome', 'genus', 'tnumber', 'gauge_point', 'most_common_aa', 'closest_aa', 'other_aa', 'common_gauge_aa'])"
      ]
     },
     "execution_count": 15,
     "metadata": {},
     "output_type": "execute_result"
    }
   ],
   "source": [
    "data['filters'].keys()"
   ]
  },
  {
   "cell_type": "code",
   "execution_count": 16,
   "id": "a3a4fb67",
   "metadata": {},
   "outputs": [],
   "source": [
    "with open('pa-data-filters.json', 'w') as f:\n",
    "    d = json.dumps(data, indent=4)\n",
    "    f.write(d)"
   ]
  }
 ],
 "metadata": {
  "kernelspec": {
   "display_name": "Python 3 (ipykernel)",
   "language": "python",
   "name": "python3"
  },
  "language_info": {
   "codemirror_mode": {
    "name": "ipython",
    "version": 3
   },
   "file_extension": ".py",
   "mimetype": "text/x-python",
   "name": "python",
   "nbconvert_exporter": "python",
   "pygments_lexer": "ipython3",
   "version": "3.10.6"
  }
 },
 "nbformat": 4,
 "nbformat_minor": 5
}
