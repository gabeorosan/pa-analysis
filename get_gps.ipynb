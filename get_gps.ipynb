{
 "cells": [
  {
   "cell_type": "code",
   "execution_count": 1,
   "id": "7592b105",
   "metadata": {},
   "outputs": [],
   "source": [
    "import json\n",
    "\n",
    "with open('db.json', 'r') as f:\n",
    "    data = json.load(f)"
   ]
  },
  {
   "cell_type": "code",
   "execution_count": 2,
   "id": "1f8e1409-674b-45f4-af60-64cd9fa0b8fd",
   "metadata": {},
   "outputs": [],
   "source": [
    "gp_dict = {k:data['gage_points'][k][0]['GP'] for k in data['data'].keys() if k in data['gage_points'].keys()}\n",
    "\n",
    "for k, v in gp_dict.items():\n",
    "    data['data'][k]['gauge_point'] = v\n",
    "\n",
    "gp_list = list(set(gp_dict.values()))\n",
    "\n",
    "data['filters']['gauge_point'] = gp_list\n",
    "\n",
    "data['properties']['discrete'].append('gauge_point')\n",
    "\n",
    "data['gauge_points'] = data.pop('gage_points')\n",
    "\n",
    "for v in data['data'].values():\n",
    "    if 'radius' in v.keys(): v['average_radius'] = v.pop('radius')\n",
    "    \n",
    "\n",
    "data['properties']['continuous'].remove('radius')\n",
    "\n",
    "data['properties']['continuous'].append('average_radius')"
   ]
  },
  {
   "cell_type": "code",
   "execution_count": 11,
   "id": "203836ea",
   "metadata": {},
   "outputs": [],
   "source": [
    "with open('pa-data-gauge.json', 'w') as f:\n",
    "    json_str = json.dumps(data, indent=4)\n",
    "    f.write(json_str)"
   ]
  }
 ],
 "metadata": {
  "kernelspec": {
   "display_name": "Python 3 (ipykernel)",
   "language": "python",
   "name": "python3"
  },
  "language_info": {
   "codemirror_mode": {
    "name": "ipython",
    "version": 3
   },
   "file_extension": ".py",
   "mimetype": "text/x-python",
   "name": "python",
   "nbconvert_exporter": "python",
   "pygments_lexer": "ipython3",
   "version": "3.10.6"
  },
  "vscode": {
   "interpreter": {
    "hash": "7e1998ff7f8aa20ada591c520b972326324e5ea05489af9e422744c7c09f6dad"
   }
  }
 },
 "nbformat": 4,
 "nbformat_minor": 5
}
