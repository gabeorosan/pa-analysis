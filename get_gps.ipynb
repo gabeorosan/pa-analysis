{
 "cells": [
  {
   "cell_type": "code",
   "execution_count": 1,
   "id": "7592b105",
   "metadata": {},
   "outputs": [],
   "source": [
    "import json\n",
    "\n",
    "with open('db.json', 'r') as f:\n",
    "    data = json.load(f)"
   ]
  },
  {
   "cell_type": "code",
   "execution_count": 2,
   "id": "dfa460dc",
   "metadata": {},
   "outputs": [],
   "source": [
    "gp_dict = {k:data['gage_points'][k][0]['GP'] for k in data['data'].keys() if k in data['gage_points'].keys()}"
   ]
  },
  {
   "cell_type": "code",
   "execution_count": 3,
   "id": "ee3a4d5c",
   "metadata": {},
   "outputs": [],
   "source": [
    "for k, v in gp_dict.items():\n",
    "    data['data'][k]['gauge_point'] = v"
   ]
  },
  {
   "cell_type": "code",
   "execution_count": 4,
   "id": "e07eee11",
   "metadata": {},
   "outputs": [],
   "source": [
    "gp_list = list(set(gp_dict.values()))"
   ]
  },
  {
   "cell_type": "code",
   "execution_count": 5,
   "id": "e083d06e",
   "metadata": {},
   "outputs": [],
   "source": [
    "data['filters']['gauge_point'] = gp_list"
   ]
  },
  {
   "cell_type": "code",
   "execution_count": 6,
   "id": "180f82f1",
   "metadata": {},
   "outputs": [],
   "source": [
    "data['properties']['discrete'].append('gauge_point')"
   ]
  },
  {
   "cell_type": "code",
   "execution_count": 7,
   "id": "4683e0fe",
   "metadata": {},
   "outputs": [],
   "source": [
    "data['gauge_points'] = data.pop('gage_points')"
   ]
  },
  {
   "cell_type": "code",
   "execution_count": 8,
   "id": "78262812",
   "metadata": {},
   "outputs": [],
   "source": [
    "for v in data['data'].values():\n",
    "    if 'radius' in v.keys(): v['average_radius'] = v.pop('radius')\n",
    "    "
   ]
  },
  {
   "cell_type": "code",
   "execution_count": 9,
   "id": "3d578f12",
   "metadata": {},
   "outputs": [],
   "source": [
    "data['properties']['continuous'].remove('radius')"
   ]
  },
  {
   "cell_type": "code",
   "execution_count": 10,
   "id": "4d420d24",
   "metadata": {},
   "outputs": [],
   "source": [
    "data['properties']['continuous'].append('average_radius')"
   ]
  },
  {
   "cell_type": "code",
   "execution_count": 11,
   "id": "203836ea",
   "metadata": {},
   "outputs": [],
   "source": [
    "with open('pa-data-gauge.json', 'w') as f:\n",
    "    json_str = json.dumps(data, indent=4)\n",
    "    f.write(json_str)"
   ]
  }
 ],
 "metadata": {
  "kernelspec": {
   "display_name": "Python 3 (ipykernel)",
   "language": "python",
   "name": "python3"
  },
  "language_info": {
   "codemirror_mode": {
    "name": "ipython",
    "version": 3
   },
   "file_extension": ".py",
   "mimetype": "text/x-python",
   "name": "python",
   "nbconvert_exporter": "python",
   "pygments_lexer": "ipython3",
   "version": "3.10.6"
  },
  "vscode": {
   "interpreter": {
    "hash": "7e1998ff7f8aa20ada591c520b972326324e5ea05489af9e422744c7c09f6dad"
   }
  }
 },
 "nbformat": 4,
 "nbformat_minor": 5
}
