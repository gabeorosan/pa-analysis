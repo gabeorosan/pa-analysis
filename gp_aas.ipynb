{
 "cells": [
  {
   "cell_type": "code",
   "execution_count": 12,
   "id": "4938d6ba",
   "metadata": {},
   "outputs": [],
   "source": [
    "import json\n",
    "\n",
    "with open('pa-data-common.json', 'r') as f:\n",
    "    data = json.load(f)\n",
    "    \n",
    "import openpyxl\n",
    "from os import listdir\n",
    "from os.path import isfile, join\n",
    "mypath = '../vpscrape/getvirons/xlfiles/'\n",
    "onlyfiles = [f for f in listdir(mypath) if isfile(join(mypath, f))]\n",
    "\n",
    "from plot_util import *\n",
    "\n",
    "def letters(s):\n",
    "    valids = []\n",
    "    for character in s:\n",
    "        if character.isalpha():\n",
    "            valids.append(character)\n",
    "    return ''.join(valids)"
   ]
  },
  {
   "cell_type": "code",
   "execution_count": 13,
   "id": "af0b27f5-9808-4f65-bde6-1605f4d33330",
   "metadata": {},
   "outputs": [],
   "source": [
    "idpath = '../vpscrape/getvirons/xlfiles_prechain/'\n",
    "idpafiles = [f for f in listdir(idpath) if isfile(join(idpath, f))]\n",
    "id_pa = {}\n",
    "for f in idpafiles:\n",
    "    try:\n",
    "        if 'full' in f: continue\n",
    "        v = f.split('.xlsx')[0]\n",
    "        xldir = idpath + f\n",
    "        wb = openpyxl.load_workbook(xldir)\n",
    "        name = wb.sheetnames[0]\n",
    "        sh = wb[name]\n",
    "        r = sh[2]\n",
    "        closest_pa = r[0].value\n",
    "        id_pa[v] = closest_pa\n",
    "    except Exception as e:\n",
    "        print(v)"
   ]
  },
  {
   "cell_type": "code",
   "execution_count": 14,
   "id": "3193a725-67e1-45c0-b18a-82a35f853486",
   "metadata": {},
   "outputs": [
    {
     "data": {
      "text/plain": [
       "30"
      ]
     },
     "execution_count": 14,
     "metadata": {},
     "output_type": "execute_result"
    }
   ],
   "source": [
    "id_pa['1a34']"
   ]
  },
  {
   "cell_type": "code",
   "execution_count": 15,
   "id": "5ff8b334-f308-4748-bfad-6901d9a453cd",
   "metadata": {},
   "outputs": [
    {
     "name": "stdout",
     "output_type": "stream",
     "text": [
      "3iyu\n",
      "3iyk\n",
      "3zko\n"
     ]
    }
   ],
   "source": [
    "data['close_aas'] = {}\n",
    "for f in onlyfiles:\n",
    "    if 'full' not in f or '.xlsx' not in f: continue\n",
    "    xldir = mypath + f\n",
    "    wb = openpyxl.load_workbook(xldir)\n",
    "    v = f.split('_', 1)[-1].split('.')[0]\n",
    "    pa = id_pa[v]\n",
    "    pa_sh = f\"{v}_pa_{pa}\"\n",
    "    resdict = []\n",
    "    sh = wb[pa_sh]\n",
    "    vitems = []\n",
    "    for row in sh.iter_rows():\n",
    "            vitems.append([cell.value for cell in row])\n",
    "    aas = []\n",
    "    cnt = 0\n",
    "    ds_aas = {}\n",
    "    gp_aas = {}\n",
    "    for j in range(2, len(vitems)):\n",
    "        for i in range(len(vitems[0])):\n",
    "            if vitems[j][i] is not None and '.' in str(vitems[j][i]):\n",
    "                d = vitems[j][i]\n",
    "                ds_aas[d] = vitems[j][i:i+4]\n",
    "                if j == 2:\n",
    "                    gp_aas[d] = ds_aas[d]\n",
    "                if d < 5:\n",
    "                    aas.append(letters(vitems[j][i+2]))\n",
    "                    if vitems[j][i+3] != 'N/A': aas.append(letters(vitems[j][i+3]))\n",
    "    resdict.extend(aas)\n",
    "    closest_gp_aa = letters(gp_aas[min(gp_aas.keys())][2])\n",
    "    other_gp_aa = letters(gp_aas[min(gp_aas.keys())][3])\n",
    "    closest_aa = letters(ds_aas[min(ds_aas.keys())][2])\n",
    "    other_aa = letters(ds_aas[min(ds_aas.keys())][3])\n",
    "    data['data'][v]['closest_gp_aa'] = closest_gp_aa\n",
    "    data['data'][v]['other_gp_aa'] = other_gp_aa\n",
    "    data['data'][v]['closest_aa'] = closest_aa\n",
    "    data['data'][v]['other_aa'] = other_aa\n",
    "    cres = countlist(resdict)\n",
    "    data['close_aas'][v] = cres\n",
    "    try:\n",
    "        data['data'][v]['common_gauge_aa'] = max(cres, key=cres.get)\n",
    "    except Exception as e:\n",
    "        print(v)"
   ]
  },
  {
   "cell_type": "code",
   "execution_count": 10,
   "id": "42f9b034",
   "metadata": {},
   "outputs": [],
   "source": [
    "for f in onlyfiles:\n",
    "    if 'full' not in f: continue\n",
    "    xldir = mypath + f\n",
    "    wb = openpyxl.load_workbook(xldir)\n",
    "    v = f.split('_', 1)[-1].split('.')[0]\n",
    "    resdict = []\n",
    "    for name in wb.sheetnames:\n",
    "            sh = wb[name]\n",
    "            vitems = []\n",
    "            for row in sh.iter_rows():\n",
    "                    vitems.append([cell.value for cell in row])\n",
    "            aas = []\n",
    "            cnt = 0\n",
    "            for i in range(len(vitems[0])):\n",
    "                for j in range(2, len(vitems)):\n",
    "                    if vitems[j][i] is not None and '.' in str(vitems[j][i]):\n",
    "                        d = vitems[j][i]\n",
    "                        if d < 5:\n",
    "                            aas.append(letters(vitems[j][i+2]))\n",
    "                            if vitems[j][i+3] != 'N/A': aas.append(letters(vitems[j][i+3]))\n",
    "            resdict.extend(aas)\n",
    "    cres = countlist(resdict)\n",
    "    data['close_aas'][v] = cres\n",
    "    data['data'][v]['common_gauge_aa'] = max(cres, key=cres.get)"
   ]
  },
  {
   "cell_type": "code",
   "execution_count": 21,
   "id": "86bfa81d",
   "metadata": {},
   "outputs": [],
   "source": [
    "del data['closest_aas']"
   ]
  },
  {
   "cell_type": "code",
   "execution_count": 22,
   "id": "78e4591b",
   "metadata": {},
   "outputs": [],
   "source": [
    "del data['gauge_points']"
   ]
  },
  {
   "cell_type": "code",
   "execution_count": 28,
   "id": "389605f6",
   "metadata": {},
   "outputs": [
    {
     "data": {
      "text/plain": [
       "dict_keys(['data', 'filters', 'properties', 'aas', 'close_aas'])"
      ]
     },
     "execution_count": 28,
     "metadata": {},
     "output_type": "execute_result"
    }
   ],
   "source": [
    "data.keys()"
   ]
  },
  {
   "cell_type": "code",
   "execution_count": 14,
   "id": "371107f3",
   "metadata": {},
   "outputs": [],
   "source": [
    "#was pa-data-close.json\n",
    "with open('pa-data-final.json', 'w') as f:\n",
    "    json_str = json.dumps(data, indent=4)\n",
    "    f.write(json_str)"
   ]
  },
  {
   "cell_type": "code",
   "execution_count": 34,
   "id": "1fbfbbbe-c6c6-4a2a-9d47-7f3ee7f3fa40",
   "metadata": {},
   "outputs": [],
   "source": [
    "with open('pa-data-dclosest.json', 'w') as f:\n",
    "    json_str = json.dumps(data, indent=4)\n",
    "    f.write(json_str)"
   ]
  },
  {
   "cell_type": "code",
   "execution_count": 17,
   "id": "1cf42aa3-2b7f-4f5c-a6c3-202dc8644e4c",
   "metadata": {},
   "outputs": [],
   "source": [
    "with open('pa-data-gp-aas.json', 'w') as f:\n",
    "    json_str = json.dumps(data, indent=4)\n",
    "    f.write(json_str)"
   ]
  }
 ],
 "metadata": {
  "kernelspec": {
   "display_name": "Python 3 (ipykernel)",
   "language": "python",
   "name": "python3"
  },
  "language_info": {
   "codemirror_mode": {
    "name": "ipython",
    "version": 3
   },
   "file_extension": ".py",
   "mimetype": "text/x-python",
   "name": "python",
   "nbconvert_exporter": "python",
   "pygments_lexer": "ipython3",
   "version": "3.10.6"
  },
  "vscode": {
   "interpreter": {
    "hash": "fbac73f3796d6a93192ce8211353d25a663db9d1ae3491beb8c364bc387b99b0"
   }
  }
 },
 "nbformat": 4,
 "nbformat_minor": 5
}
