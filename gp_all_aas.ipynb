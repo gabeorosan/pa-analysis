{
 "cells": [
  {
   "cell_type": "code",
   "execution_count": 1,
   "id": "4938d6ba",
   "metadata": {},
   "outputs": [],
   "source": [
    "import json\n",
    "\n",
    "with open('pa-data-filters.json', 'r') as f:\n",
    "    data = json.load(f)\n",
    "    \n",
    "import openpyxl\n",
    "from os import listdir\n",
    "from os.path import isfile, join\n",
    "mypath = '../vpscrape/getvirons/xlfiles/'\n",
    "onlyfiles = [f for f in listdir(mypath) if isfile(join(mypath, f))]\n",
    "\n",
    "from plot_util import *\n",
    "\n",
    "def letters(s):\n",
    "    valids = []\n",
    "    for character in s:\n",
    "        if character.isalpha():\n",
    "            valids.append(character)\n",
    "    return ''.join(valids)"
   ]
  },
  {
   "cell_type": "code",
   "execution_count": 9,
   "id": "5ff8b334-f308-4748-bfad-6901d9a453cd",
   "metadata": {},
   "outputs": [],
   "source": [
    "data['all_pas_closest'] = {}\n",
    "data['close_aas'] = {}\n",
    "for f in onlyfiles:\n",
    "    if 'full' not in f or '.xlsx' not in f: continue\n",
    "    xldir = mypath + f\n",
    "    wb = openpyxl.load_workbook(xldir)\n",
    "    v = f.split('_', 1)[-1].split('.')[0]\n",
    "    dclosest_aas = []\n",
    "    for sheetname in wb.sheetnames:\n",
    "        sh = wb[sheetname]\n",
    "        vitems = []\n",
    "        for row in sh.iter_rows():\n",
    "                vitems.append([cell.value for cell in row])\n",
    "        aas = []\n",
    "        cnt = 0\n",
    "        ds_aas = {}\n",
    "        for i in range(len(vitems[0])):\n",
    "            for j in range(2, len(vitems)):\n",
    "                if vitems[j][i] is not None and '.' in str(vitems[j][i]):\n",
    "                    d = vitems[j][i]\n",
    "                    ds_aas[d] = vitems[j][i:i+4]\n",
    "                    if d < 5:\n",
    "                        aas.append(letters(vitems[j][i+2]))\n",
    "                        if vitems[j][i+3] != 'N/A': aas.append(letters(vitems[j][i+3]))\n",
    "        closest_aa = letters(ds_aas[min(ds_aas.keys())][2])\n",
    "        other_aa = letters(ds_aas[min(ds_aas.keys())][3])\n",
    "        dclosest_aas.append([closest_aa, other_aa])\n",
    "    data['all_pas_closest'][v] = dclosest_aas"
   ]
  },
  {
   "cell_type": "code",
   "execution_count": 11,
   "id": "371107f3",
   "metadata": {},
   "outputs": [],
   "source": [
    "#was pa-data-close.json\n",
    "with open('pa-data-all-pas.json', 'w') as f:\n",
    "    json_str = json.dumps(data, indent=4)\n",
    "    f.write(json_str)"
   ]
  }
 ],
 "metadata": {
  "kernelspec": {
   "display_name": "Python 3 (ipykernel)",
   "language": "python",
   "name": "python3"
  },
  "language_info": {
   "codemirror_mode": {
    "name": "ipython",
    "version": 3
   },
   "file_extension": ".py",
   "mimetype": "text/x-python",
   "name": "python",
   "nbconvert_exporter": "python",
   "pygments_lexer": "ipython3",
   "version": "3.10.6"
  },
  "vscode": {
   "interpreter": {
    "hash": "fbac73f3796d6a93192ce8211353d25a663db9d1ae3491beb8c364bc387b99b0"
   }
  }
 },
 "nbformat": 4,
 "nbformat_minor": 5
}
