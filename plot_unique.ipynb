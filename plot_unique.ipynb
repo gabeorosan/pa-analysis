{
 "cells": [
  {
   "cell_type": "code",
   "execution_count": 1,
   "id": "7f718ced-c2f4-40c0-b6d6-fe58ee0b7cac",
   "metadata": {},
   "outputs": [],
   "source": [
    "from plot_util import *"
   ]
  },
  {
   "cell_type": "code",
   "execution_count": 3,
   "id": "f1b856de-2e30-4c87-87e4-1ecccf838b3a",
   "metadata": {},
   "outputs": [],
   "source": [
    "import json\n",
    "\n",
    "with open('pa-data-all-pas.json', 'r') as f:\n",
    "    data = json.load(f)"
   ]
  },
  {
   "cell_type": "code",
   "execution_count": 4,
   "id": "f08ce2a6-bf44-4834-ae7f-20af3db5ed7e",
   "metadata": {},
   "outputs": [
    {
     "data": {
      "text/plain": [
       "dict_keys(['data', 'filters', 'properties', 'aas', 'close_aas', 'all_pas_closest'])"
      ]
     },
     "execution_count": 4,
     "metadata": {},
     "output_type": "execute_result"
    }
   ],
   "source": [
    "data.keys()"
   ]
  },
  {
   "cell_type": "code",
   "execution_count": 7,
   "id": "0a9ab110-8248-499f-beb2-f2669cff8a4d",
   "metadata": {},
   "outputs": [
    {
     "data": {
      "text/plain": [
       "{'THR': 5880,\n",
       " 'GLY': 1680,\n",
       " 'ASP': 1920,\n",
       " 'ASN': 5820,\n",
       " 'SER': 5400,\n",
       " 'VAL': 7980,\n",
       " 'MET': 960,\n",
       " 'ILE': 2880,\n",
       " 'ARG': 7260,\n",
       " 'ALA': 3000,\n",
       " 'TYR': 2160,\n",
       " 'PRO': 3780,\n",
       " 'LYS': 2160,\n",
       " 'TRP': 1680,\n",
       " 'PHE': 5940,\n",
       " 'GLU': 3240,\n",
       " 'GLN': 2160,\n",
       " 'LEU': 2880,\n",
       " 'CYS': 1440,\n",
       " 'A': 13260,\n",
       " 'U': 12060}"
      ]
     },
     "execution_count": 7,
     "metadata": {},
     "output_type": "execute_result"
    }
   ],
   "source": [
    "data['aas']['1a34']"
   ]
  }
 ],
 "metadata": {
  "kernelspec": {
   "display_name": "Python 3 (ipykernel)",
   "language": "python",
   "name": "python3"
  },
  "language_info": {
   "codemirror_mode": {
    "name": "ipython",
    "version": 3
   },
   "file_extension": ".py",
   "mimetype": "text/x-python",
   "name": "python",
   "nbconvert_exporter": "python",
   "pygments_lexer": "ipython3",
   "version": "3.10.6"
  }
 },
 "nbformat": 4,
 "nbformat_minor": 5
}
