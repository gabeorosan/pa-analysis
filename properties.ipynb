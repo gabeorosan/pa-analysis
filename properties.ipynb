{
 "cells": [
  {
   "cell_type": "code",
   "execution_count": 1,
   "id": "ddddbb2e",
   "metadata": {},
   "outputs": [],
   "source": [
    "import json"
   ]
  },
  {
   "cell_type": "code",
   "execution_count": 2,
   "id": "98768173",
   "metadata": {},
   "outputs": [],
   "source": [
    "x = 'pa-data-dclosest.json'\n",
    "# parse x:\n",
    "with open (x, 'r') as f:\n",
    "    data = json.load(f)"
   ]
  },
  {
   "cell_type": "code",
   "execution_count": 3,
   "id": "4b6e3aad-d364-42c9-8b0f-e79072cdb5f1",
   "metadata": {},
   "outputs": [],
   "source": [
    "properties = {}\n",
    "properties['discrete'] = []\n",
    "properties['continuous'] = []\n",
    "\n",
    "def num(s):\n",
    "    try:\n",
    "        return int(s)\n",
    "    except ValueError:\n",
    "        return float(s)\n",
    "\n",
    "var_dict = {}\n",
    "for k in data['data']:\n",
    "    if 'tnum' in data['data'][k].keys(): del data['data'][k]['tnum']\n",
    "    for v in data['data'][k]:\n",
    "        if v not in var_dict.keys(): var_dict[v] = 'continuous'\n",
    "        if not str(data['data'][k][v]).replace('.','',1).isdigit() and len(str(data['data'][k][v])) > 0: \n",
    "            var_dict[v] = 'discrete'\n",
    "\n",
    "conts = [k for k,v in var_dict.items() if v=='continuous']\n",
    "discs = [k for k,v in var_dict.items() if v=='discrete']\n",
    "\n",
    "properties['continuous'] = conts\n",
    "properties['discrete'] = discs\n",
    "#properties\n",
    "\n",
    "for virus in data['data']:\n",
    "    for c in conts:\n",
    "        if c in data['data'][virus].keys():\n",
    "            item = str(data['data'][virus][c])\n",
    "            if len(item) == 0: del data['data'][virus][c]\n",
    "            else: data['data'][virus][c] = num(item)\n",
    "\n",
    "data['properties'] = properties\n"
   ]
  },
  {
   "cell_type": "code",
   "execution_count": null,
   "id": "542d1070-94bf-47d6-9f84-25dd16b05e00",
   "metadata": {},
   "outputs": [],
   "source": [
    "\n",
    "with open('pa-data-properties.json', 'w') as f:\n",
    "    jsonString = json.dumps(data, indent=4)\n",
    "    f.write(jsonString)"
   ]
  },
  {
   "cell_type": "code",
   "execution_count": 13,
   "id": "9a9165c1",
   "metadata": {},
   "outputs": [],
   "source": [
    "#get rid of id field\n",
    "\n",
    "x = 'pa-data-vars-full.json'\n",
    "with open (x, 'r') as f:\n",
    "    data = json.load(f)\n",
    "\n",
    "for k in data['data']:\n",
    "    if 'id' in data['data'][k].keys(): del data['data'][k]['id']\n",
    "        \n",
    "if 'id' in data['properties']['discrete']: data['properties']['discrete'].remove('id')\n",
    "\n",
    "with open('pa-data-rmids-full.json', 'w') as f:\n",
    "    jsonString = json.dumps(data, indent=4)\n",
    "    f.write(jsonString)"
   ]
  }
 ],
 "metadata": {
  "kernelspec": {
   "display_name": "Python 3 (ipykernel)",
   "language": "python",
   "name": "python3"
  },
  "language_info": {
   "codemirror_mode": {
    "name": "ipython",
    "version": 3
   },
   "file_extension": ".py",
   "mimetype": "text/x-python",
   "name": "python",
   "nbconvert_exporter": "python",
   "pygments_lexer": "ipython3",
   "version": "3.10.6"
  },
  "vscode": {
   "interpreter": {
    "hash": "7e1998ff7f8aa20ada591c520b972326324e5ea05489af9e422744c7c09f6dad"
   }
  }
 },
 "nbformat": 4,
 "nbformat_minor": 5
}
